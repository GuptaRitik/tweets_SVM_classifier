{
  "nbformat": 4,
  "nbformat_minor": 0,
  "metadata": {
    "kernelspec": {
      "display_name": "Python 3",
      "language": "python",
      "name": "python3"
    },
    "language_info": {
      "codemirror_mode": {
        "name": "ipython",
        "version": 3
      },
      "file_extension": ".py",
      "mimetype": "text/x-python",
      "name": "python",
      "nbconvert_exporter": "python",
      "pygments_lexer": "ipython3",
      "version": "3.7.1"
    },
    "colab": {
      "provenance": [],
      "collapsed_sections": [],
      "include_colab_link": true
    }
  },
  "cells": [
    {
      "cell_type": "markdown",
      "metadata": {
        "id": "view-in-github",
        "colab_type": "text"
      },
      "source": [
        "<a href=\"https://colab.research.google.com/github/GuptaRitik/tweets_SVM_classifier/blob/main/Support_Vector_Machine.ipynb\" target=\"_parent\"><img src=\"https://colab.research.google.com/assets/colab-badge.svg\" alt=\"Open In Colab\"/></a>"
      ]
    },
    {
      "cell_type": "markdown",
      "metadata": {
        "id": "PYsTFWXYjCxF"
      },
      "source": [
        "# <u><b> Objective </b></u>\n",
        "## <b> You are given a data of US Airline tweets and their sentiment. The task is to do sentiment analysis about the problems of each major U.S. airline. Twitter data was scraped from February of 2015 and contributors were asked to first classify positive, negative, and neutral tweets, followed by categorizing negative reasons (such as \"late flight\" or \"rude service\"). </b>\n",
        "\n",
        "<br>\n",
        "<br>\n",
        "\n",
        "## <b>Things to do :</b>\n",
        "* ### Read the tweets.csv data, clean and tokenize the tweets using nltk library.\n",
        "* ### Count vectorize the tweets so that you end up with a sparse matrix (which will be your $X$). \n",
        "* ### You are supposed to build a SVM classifier (a binary classification in fact). Since the data contains three levels of sentiment(positive, negative and neutral), you should remove the sentences which are neutral. Once you do that you will have two classes only (positive and negative). You can set the label of positive tweets to 1 and negative tweets to 0.\n",
        "* ### Once you have built the SVM classifier, evaluate this model across various metrics. Also plot the ROC curve and Precision-Recall curve. Report the areas under these two curves along with other metrics.\n",
        "* ### Perform GridSearch cross validation for various values of $C$ and $gamma$. These will be the hyperparameters which you would play around with.\n",
        "* ### Explain your observations and the underlying reasons for these.\n",
        "* ### Try checking if <code>tfidfvectorizer</code> helps you gain lift in model's performance.\n",
        "\n",
        "\n",
        "\n"
      ]
    },
    {
      "cell_type": "code",
      "source": [
        "from google.colab import drive\n",
        "drive.mount('/content/drive')"
      ],
      "metadata": {
        "colab": {
          "base_uri": "https://localhost:8080/"
        },
        "id": "wU195oQqqVMq",
        "outputId": "bb19b096-0699-4207-dd0f-44e1521d7d0c"
      },
      "execution_count": null,
      "outputs": [
        {
          "output_type": "stream",
          "name": "stdout",
          "text": [
            "Mounted at /content/drive\n"
          ]
        }
      ]
    },
    {
      "cell_type": "code",
      "source": [],
      "metadata": {
        "id": "Xxci0UE0sleq"
      },
      "execution_count": null,
      "outputs": []
    },
    {
      "cell_type": "code",
      "source": [],
      "metadata": {
        "id": "L5TKTptPB3-_"
      },
      "execution_count": null,
      "outputs": []
    },
    {
      "cell_type": "code",
      "metadata": {
        "id": "Ah_20SDKV7Ao"
      },
      "source": [
        "\n",
        "import pandas as pd\n",
        "import numpy as np\n",
        "import matplotlib.pyplot as plt\n",
        "import seaborn as sns\n",
        "import string\n",
        "from nltk.corpus import stopwords\n",
        "import nltk\n",
        "nltk.download('stopwords')\n",
        "from sklearn.feature_extraction.text import CountVectorizer\n",
        "from sklearn.feature_extraction.text import TfidfVectorizer\n",
        "from sklearn.model_selection import train_test_split\n",
        "from sklearn.svm import SVC\n",
        "from sklearn.metrics import classification_report, confusion_matrix, accuracy_score, roc_auc_score, roc_curve, precision_recall_curve\n",
        "\n",
        "from sklearn.model_selection import GridSearchCV"
      ],
      "execution_count": null,
      "outputs": []
    },
    {
      "cell_type": "code",
      "source": [
        "df = pd.read_csv('/content/drive/MyDrive/DS_Almabetter /Module 4 - Machine learning/Week-3/SVM/Copy of Tweets.csv')"
      ],
      "metadata": {
        "id": "JFB_nRthsaGQ"
      },
      "execution_count": null,
      "outputs": []
    },
    {
      "cell_type": "code",
      "source": [
        "df.head(10)"
      ],
      "metadata": {
        "colab": {
          "base_uri": "https://localhost:8080/",
          "height": 913
        },
        "id": "jY1F9V-4sjXr",
        "outputId": "f1fb2294-c27d-48a2-f46c-2121100edbfa"
      },
      "execution_count": null,
      "outputs": [
        {
          "output_type": "execute_result",
          "data": {
            "text/plain": [
              "             tweet_id airline_sentiment  airline_sentiment_confidence  \\\n",
              "0  570306133677760513           neutral                        1.0000   \n",
              "1  570301130888122368          positive                        0.3486   \n",
              "2  570301083672813571           neutral                        0.6837   \n",
              "3  570301031407624196          negative                        1.0000   \n",
              "4  570300817074462722          negative                        1.0000   \n",
              "5  570300767074181121          negative                        1.0000   \n",
              "6  570300616901320704          positive                        0.6745   \n",
              "7  570300248553349120           neutral                        0.6340   \n",
              "8  570299953286942721          positive                        0.6559   \n",
              "9  570295459631263746          positive                        1.0000   \n",
              "\n",
              "  negativereason  negativereason_confidence         airline  \\\n",
              "0            NaN                        NaN  Virgin America   \n",
              "1            NaN                     0.0000  Virgin America   \n",
              "2            NaN                        NaN  Virgin America   \n",
              "3     Bad Flight                     0.7033  Virgin America   \n",
              "4     Can't Tell                     1.0000  Virgin America   \n",
              "5     Can't Tell                     0.6842  Virgin America   \n",
              "6            NaN                     0.0000  Virgin America   \n",
              "7            NaN                        NaN  Virgin America   \n",
              "8            NaN                        NaN  Virgin America   \n",
              "9            NaN                        NaN  Virgin America   \n",
              "\n",
              "  airline_sentiment_gold        name negativereason_gold  retweet_count  \\\n",
              "0                    NaN     cairdin                 NaN              0   \n",
              "1                    NaN    jnardino                 NaN              0   \n",
              "2                    NaN  yvonnalynn                 NaN              0   \n",
              "3                    NaN    jnardino                 NaN              0   \n",
              "4                    NaN    jnardino                 NaN              0   \n",
              "5                    NaN    jnardino                 NaN              0   \n",
              "6                    NaN  cjmcginnis                 NaN              0   \n",
              "7                    NaN       pilot                 NaN              0   \n",
              "8                    NaN    dhepburn                 NaN              0   \n",
              "9                    NaN  YupitsTate                 NaN              0   \n",
              "\n",
              "                                                text tweet_coord  \\\n",
              "0                @VirginAmerica What @dhepburn said.         NaN   \n",
              "1  @VirginAmerica plus you've added commercials t...         NaN   \n",
              "2  @VirginAmerica I didn't today... Must mean I n...         NaN   \n",
              "3  @VirginAmerica it's really aggressive to blast...         NaN   \n",
              "4  @VirginAmerica and it's a really big bad thing...         NaN   \n",
              "5  @VirginAmerica seriously would pay $30 a fligh...         NaN   \n",
              "6  @VirginAmerica yes, nearly every time I fly VX...         NaN   \n",
              "7  @VirginAmerica Really missed a prime opportuni...         NaN   \n",
              "8    @virginamerica Well, I didn't…but NOW I DO! :-D         NaN   \n",
              "9  @VirginAmerica it was amazing, and arrived an ...         NaN   \n",
              "\n",
              "               tweet_created    tweet_location               user_timezone  \n",
              "0  2015-02-24 11:35:52 -0800               NaN  Eastern Time (US & Canada)  \n",
              "1  2015-02-24 11:15:59 -0800               NaN  Pacific Time (US & Canada)  \n",
              "2  2015-02-24 11:15:48 -0800         Lets Play  Central Time (US & Canada)  \n",
              "3  2015-02-24 11:15:36 -0800               NaN  Pacific Time (US & Canada)  \n",
              "4  2015-02-24 11:14:45 -0800               NaN  Pacific Time (US & Canada)  \n",
              "5  2015-02-24 11:14:33 -0800               NaN  Pacific Time (US & Canada)  \n",
              "6  2015-02-24 11:13:57 -0800  San Francisco CA  Pacific Time (US & Canada)  \n",
              "7  2015-02-24 11:12:29 -0800       Los Angeles  Pacific Time (US & Canada)  \n",
              "8  2015-02-24 11:11:19 -0800         San Diego  Pacific Time (US & Canada)  \n",
              "9  2015-02-24 10:53:27 -0800       Los Angeles  Eastern Time (US & Canada)  "
            ],
            "text/html": [
              "\n",
              "  <div id=\"df-40d619fe-a84c-4752-8fd4-88c2d1c1b457\">\n",
              "    <div class=\"colab-df-container\">\n",
              "      <div>\n",
              "<style scoped>\n",
              "    .dataframe tbody tr th:only-of-type {\n",
              "        vertical-align: middle;\n",
              "    }\n",
              "\n",
              "    .dataframe tbody tr th {\n",
              "        vertical-align: top;\n",
              "    }\n",
              "\n",
              "    .dataframe thead th {\n",
              "        text-align: right;\n",
              "    }\n",
              "</style>\n",
              "<table border=\"1\" class=\"dataframe\">\n",
              "  <thead>\n",
              "    <tr style=\"text-align: right;\">\n",
              "      <th></th>\n",
              "      <th>tweet_id</th>\n",
              "      <th>airline_sentiment</th>\n",
              "      <th>airline_sentiment_confidence</th>\n",
              "      <th>negativereason</th>\n",
              "      <th>negativereason_confidence</th>\n",
              "      <th>airline</th>\n",
              "      <th>airline_sentiment_gold</th>\n",
              "      <th>name</th>\n",
              "      <th>negativereason_gold</th>\n",
              "      <th>retweet_count</th>\n",
              "      <th>text</th>\n",
              "      <th>tweet_coord</th>\n",
              "      <th>tweet_created</th>\n",
              "      <th>tweet_location</th>\n",
              "      <th>user_timezone</th>\n",
              "    </tr>\n",
              "  </thead>\n",
              "  <tbody>\n",
              "    <tr>\n",
              "      <th>0</th>\n",
              "      <td>570306133677760513</td>\n",
              "      <td>neutral</td>\n",
              "      <td>1.0000</td>\n",
              "      <td>NaN</td>\n",
              "      <td>NaN</td>\n",
              "      <td>Virgin America</td>\n",
              "      <td>NaN</td>\n",
              "      <td>cairdin</td>\n",
              "      <td>NaN</td>\n",
              "      <td>0</td>\n",
              "      <td>@VirginAmerica What @dhepburn said.</td>\n",
              "      <td>NaN</td>\n",
              "      <td>2015-02-24 11:35:52 -0800</td>\n",
              "      <td>NaN</td>\n",
              "      <td>Eastern Time (US &amp; Canada)</td>\n",
              "    </tr>\n",
              "    <tr>\n",
              "      <th>1</th>\n",
              "      <td>570301130888122368</td>\n",
              "      <td>positive</td>\n",
              "      <td>0.3486</td>\n",
              "      <td>NaN</td>\n",
              "      <td>0.0000</td>\n",
              "      <td>Virgin America</td>\n",
              "      <td>NaN</td>\n",
              "      <td>jnardino</td>\n",
              "      <td>NaN</td>\n",
              "      <td>0</td>\n",
              "      <td>@VirginAmerica plus you've added commercials t...</td>\n",
              "      <td>NaN</td>\n",
              "      <td>2015-02-24 11:15:59 -0800</td>\n",
              "      <td>NaN</td>\n",
              "      <td>Pacific Time (US &amp; Canada)</td>\n",
              "    </tr>\n",
              "    <tr>\n",
              "      <th>2</th>\n",
              "      <td>570301083672813571</td>\n",
              "      <td>neutral</td>\n",
              "      <td>0.6837</td>\n",
              "      <td>NaN</td>\n",
              "      <td>NaN</td>\n",
              "      <td>Virgin America</td>\n",
              "      <td>NaN</td>\n",
              "      <td>yvonnalynn</td>\n",
              "      <td>NaN</td>\n",
              "      <td>0</td>\n",
              "      <td>@VirginAmerica I didn't today... Must mean I n...</td>\n",
              "      <td>NaN</td>\n",
              "      <td>2015-02-24 11:15:48 -0800</td>\n",
              "      <td>Lets Play</td>\n",
              "      <td>Central Time (US &amp; Canada)</td>\n",
              "    </tr>\n",
              "    <tr>\n",
              "      <th>3</th>\n",
              "      <td>570301031407624196</td>\n",
              "      <td>negative</td>\n",
              "      <td>1.0000</td>\n",
              "      <td>Bad Flight</td>\n",
              "      <td>0.7033</td>\n",
              "      <td>Virgin America</td>\n",
              "      <td>NaN</td>\n",
              "      <td>jnardino</td>\n",
              "      <td>NaN</td>\n",
              "      <td>0</td>\n",
              "      <td>@VirginAmerica it's really aggressive to blast...</td>\n",
              "      <td>NaN</td>\n",
              "      <td>2015-02-24 11:15:36 -0800</td>\n",
              "      <td>NaN</td>\n",
              "      <td>Pacific Time (US &amp; Canada)</td>\n",
              "    </tr>\n",
              "    <tr>\n",
              "      <th>4</th>\n",
              "      <td>570300817074462722</td>\n",
              "      <td>negative</td>\n",
              "      <td>1.0000</td>\n",
              "      <td>Can't Tell</td>\n",
              "      <td>1.0000</td>\n",
              "      <td>Virgin America</td>\n",
              "      <td>NaN</td>\n",
              "      <td>jnardino</td>\n",
              "      <td>NaN</td>\n",
              "      <td>0</td>\n",
              "      <td>@VirginAmerica and it's a really big bad thing...</td>\n",
              "      <td>NaN</td>\n",
              "      <td>2015-02-24 11:14:45 -0800</td>\n",
              "      <td>NaN</td>\n",
              "      <td>Pacific Time (US &amp; Canada)</td>\n",
              "    </tr>\n",
              "    <tr>\n",
              "      <th>5</th>\n",
              "      <td>570300767074181121</td>\n",
              "      <td>negative</td>\n",
              "      <td>1.0000</td>\n",
              "      <td>Can't Tell</td>\n",
              "      <td>0.6842</td>\n",
              "      <td>Virgin America</td>\n",
              "      <td>NaN</td>\n",
              "      <td>jnardino</td>\n",
              "      <td>NaN</td>\n",
              "      <td>0</td>\n",
              "      <td>@VirginAmerica seriously would pay $30 a fligh...</td>\n",
              "      <td>NaN</td>\n",
              "      <td>2015-02-24 11:14:33 -0800</td>\n",
              "      <td>NaN</td>\n",
              "      <td>Pacific Time (US &amp; Canada)</td>\n",
              "    </tr>\n",
              "    <tr>\n",
              "      <th>6</th>\n",
              "      <td>570300616901320704</td>\n",
              "      <td>positive</td>\n",
              "      <td>0.6745</td>\n",
              "      <td>NaN</td>\n",
              "      <td>0.0000</td>\n",
              "      <td>Virgin America</td>\n",
              "      <td>NaN</td>\n",
              "      <td>cjmcginnis</td>\n",
              "      <td>NaN</td>\n",
              "      <td>0</td>\n",
              "      <td>@VirginAmerica yes, nearly every time I fly VX...</td>\n",
              "      <td>NaN</td>\n",
              "      <td>2015-02-24 11:13:57 -0800</td>\n",
              "      <td>San Francisco CA</td>\n",
              "      <td>Pacific Time (US &amp; Canada)</td>\n",
              "    </tr>\n",
              "    <tr>\n",
              "      <th>7</th>\n",
              "      <td>570300248553349120</td>\n",
              "      <td>neutral</td>\n",
              "      <td>0.6340</td>\n",
              "      <td>NaN</td>\n",
              "      <td>NaN</td>\n",
              "      <td>Virgin America</td>\n",
              "      <td>NaN</td>\n",
              "      <td>pilot</td>\n",
              "      <td>NaN</td>\n",
              "      <td>0</td>\n",
              "      <td>@VirginAmerica Really missed a prime opportuni...</td>\n",
              "      <td>NaN</td>\n",
              "      <td>2015-02-24 11:12:29 -0800</td>\n",
              "      <td>Los Angeles</td>\n",
              "      <td>Pacific Time (US &amp; Canada)</td>\n",
              "    </tr>\n",
              "    <tr>\n",
              "      <th>8</th>\n",
              "      <td>570299953286942721</td>\n",
              "      <td>positive</td>\n",
              "      <td>0.6559</td>\n",
              "      <td>NaN</td>\n",
              "      <td>NaN</td>\n",
              "      <td>Virgin America</td>\n",
              "      <td>NaN</td>\n",
              "      <td>dhepburn</td>\n",
              "      <td>NaN</td>\n",
              "      <td>0</td>\n",
              "      <td>@virginamerica Well, I didn't…but NOW I DO! :-D</td>\n",
              "      <td>NaN</td>\n",
              "      <td>2015-02-24 11:11:19 -0800</td>\n",
              "      <td>San Diego</td>\n",
              "      <td>Pacific Time (US &amp; Canada)</td>\n",
              "    </tr>\n",
              "    <tr>\n",
              "      <th>9</th>\n",
              "      <td>570295459631263746</td>\n",
              "      <td>positive</td>\n",
              "      <td>1.0000</td>\n",
              "      <td>NaN</td>\n",
              "      <td>NaN</td>\n",
              "      <td>Virgin America</td>\n",
              "      <td>NaN</td>\n",
              "      <td>YupitsTate</td>\n",
              "      <td>NaN</td>\n",
              "      <td>0</td>\n",
              "      <td>@VirginAmerica it was amazing, and arrived an ...</td>\n",
              "      <td>NaN</td>\n",
              "      <td>2015-02-24 10:53:27 -0800</td>\n",
              "      <td>Los Angeles</td>\n",
              "      <td>Eastern Time (US &amp; Canada)</td>\n",
              "    </tr>\n",
              "  </tbody>\n",
              "</table>\n",
              "</div>\n",
              "      <button class=\"colab-df-convert\" onclick=\"convertToInteractive('df-40d619fe-a84c-4752-8fd4-88c2d1c1b457')\"\n",
              "              title=\"Convert this dataframe to an interactive table.\"\n",
              "              style=\"display:none;\">\n",
              "        \n",
              "  <svg xmlns=\"http://www.w3.org/2000/svg\" height=\"24px\"viewBox=\"0 0 24 24\"\n",
              "       width=\"24px\">\n",
              "    <path d=\"M0 0h24v24H0V0z\" fill=\"none\"/>\n",
              "    <path d=\"M18.56 5.44l.94 2.06.94-2.06 2.06-.94-2.06-.94-.94-2.06-.94 2.06-2.06.94zm-11 1L8.5 8.5l.94-2.06 2.06-.94-2.06-.94L8.5 2.5l-.94 2.06-2.06.94zm10 10l.94 2.06.94-2.06 2.06-.94-2.06-.94-.94-2.06-.94 2.06-2.06.94z\"/><path d=\"M17.41 7.96l-1.37-1.37c-.4-.4-.92-.59-1.43-.59-.52 0-1.04.2-1.43.59L10.3 9.45l-7.72 7.72c-.78.78-.78 2.05 0 2.83L4 21.41c.39.39.9.59 1.41.59.51 0 1.02-.2 1.41-.59l7.78-7.78 2.81-2.81c.8-.78.8-2.07 0-2.86zM5.41 20L4 18.59l7.72-7.72 1.47 1.35L5.41 20z\"/>\n",
              "  </svg>\n",
              "      </button>\n",
              "      \n",
              "  <style>\n",
              "    .colab-df-container {\n",
              "      display:flex;\n",
              "      flex-wrap:wrap;\n",
              "      gap: 12px;\n",
              "    }\n",
              "\n",
              "    .colab-df-convert {\n",
              "      background-color: #E8F0FE;\n",
              "      border: none;\n",
              "      border-radius: 50%;\n",
              "      cursor: pointer;\n",
              "      display: none;\n",
              "      fill: #1967D2;\n",
              "      height: 32px;\n",
              "      padding: 0 0 0 0;\n",
              "      width: 32px;\n",
              "    }\n",
              "\n",
              "    .colab-df-convert:hover {\n",
              "      background-color: #E2EBFA;\n",
              "      box-shadow: 0px 1px 2px rgba(60, 64, 67, 0.3), 0px 1px 3px 1px rgba(60, 64, 67, 0.15);\n",
              "      fill: #174EA6;\n",
              "    }\n",
              "\n",
              "    [theme=dark] .colab-df-convert {\n",
              "      background-color: #3B4455;\n",
              "      fill: #D2E3FC;\n",
              "    }\n",
              "\n",
              "    [theme=dark] .colab-df-convert:hover {\n",
              "      background-color: #434B5C;\n",
              "      box-shadow: 0px 1px 3px 1px rgba(0, 0, 0, 0.15);\n",
              "      filter: drop-shadow(0px 1px 2px rgba(0, 0, 0, 0.3));\n",
              "      fill: #FFFFFF;\n",
              "    }\n",
              "  </style>\n",
              "\n",
              "      <script>\n",
              "        const buttonEl =\n",
              "          document.querySelector('#df-40d619fe-a84c-4752-8fd4-88c2d1c1b457 button.colab-df-convert');\n",
              "        buttonEl.style.display =\n",
              "          google.colab.kernel.accessAllowed ? 'block' : 'none';\n",
              "\n",
              "        async function convertToInteractive(key) {\n",
              "          const element = document.querySelector('#df-40d619fe-a84c-4752-8fd4-88c2d1c1b457');\n",
              "          const dataTable =\n",
              "            await google.colab.kernel.invokeFunction('convertToInteractive',\n",
              "                                                     [key], {});\n",
              "          if (!dataTable) return;\n",
              "\n",
              "          const docLinkHtml = 'Like what you see? Visit the ' +\n",
              "            '<a target=\"_blank\" href=https://colab.research.google.com/notebooks/data_table.ipynb>data table notebook</a>'\n",
              "            + ' to learn more about interactive tables.';\n",
              "          element.innerHTML = '';\n",
              "          dataTable['output_type'] = 'display_data';\n",
              "          await google.colab.output.renderOutput(dataTable, element);\n",
              "          const docLink = document.createElement('div');\n",
              "          docLink.innerHTML = docLinkHtml;\n",
              "          element.appendChild(docLink);\n",
              "        }\n",
              "      </script>\n",
              "    </div>\n",
              "  </div>\n",
              "  "
            ]
          },
          "metadata": {},
          "execution_count": 6
        }
      ]
    },
    {
      "cell_type": "markdown",
      "source": [
        "## as per the problem statement, we are only going to use the text and sentiment column where sentiment is the target column."
      ],
      "metadata": {
        "id": "NaiCqBQhvSgF"
      }
    },
    {
      "cell_type": "code",
      "source": [
        "# keeping only 2 columns in dataframe\n",
        "\n",
        "df = df[['text','airline_sentiment']]"
      ],
      "metadata": {
        "id": "ITR6ZyFxsrjW"
      },
      "execution_count": null,
      "outputs": []
    },
    {
      "cell_type": "code",
      "source": [
        "# checking for nulls\n",
        "\n",
        "\n",
        "df.info()"
      ],
      "metadata": {
        "colab": {
          "base_uri": "https://localhost:8080/"
        },
        "id": "xHQPZO6ps3P4",
        "outputId": "a275b850-0388-4771-a7c1-f94398537195"
      },
      "execution_count": null,
      "outputs": [
        {
          "output_type": "stream",
          "name": "stdout",
          "text": [
            "<class 'pandas.core.frame.DataFrame'>\n",
            "RangeIndex: 14640 entries, 0 to 14639\n",
            "Data columns (total 2 columns):\n",
            " #   Column             Non-Null Count  Dtype \n",
            "---  ------             --------------  ----- \n",
            " 0   text               14640 non-null  object\n",
            " 1   airline_sentiment  14640 non-null  object\n",
            "dtypes: object(2)\n",
            "memory usage: 228.9+ KB\n"
          ]
        }
      ]
    },
    {
      "cell_type": "code",
      "source": [],
      "metadata": {
        "id": "Vv0hK4c389B4"
      },
      "execution_count": null,
      "outputs": []
    },
    {
      "cell_type": "markdown",
      "source": [
        "## Text processing"
      ],
      "metadata": {
        "id": "RgQqTAQTwI2O"
      }
    },
    {
      "cell_type": "markdown",
      "source": [
        "Tokenizing the text data, to use only important words"
      ],
      "metadata": {
        "id": "Ck2iXby9wPv5"
      }
    },
    {
      "cell_type": "code",
      "source": [
        "# defing a function to remove punctuation and stop words from text\n",
        "\n",
        "def nonsense_remover(txt):\n",
        "  nonstop = ' '.join([i for i in txt.split() if i.lower() not in stopwords.words('english')]) # storing words without stop words\n",
        "  return ''.join([i for i in nonstop if i not in string.punctuation]) #removing punchuation and retrn the new clean text\n"
      ],
      "metadata": {
        "id": "2XG4nz_7v5QK"
      },
      "execution_count": null,
      "outputs": []
    },
    {
      "cell_type": "code",
      "source": [
        "df['clear_text'] = df['text'].apply(nonsense_remover) #applying the function to cleaning text data"
      ],
      "metadata": {
        "id": "ZzBRnqpR3BdP"
      },
      "execution_count": null,
      "outputs": []
    },
    {
      "cell_type": "code",
      "source": [
        "df.drop('text', axis=1, inplace=True) #dropping the old text column"
      ],
      "metadata": {
        "id": "flZ-xV153Bbg"
      },
      "execution_count": null,
      "outputs": []
    },
    {
      "cell_type": "code",
      "source": [
        "df.head(8)"
      ],
      "metadata": {
        "colab": {
          "base_uri": "https://localhost:8080/",
          "height": 300
        },
        "id": "pNggGbtS3BZ9",
        "outputId": "952cf4fd-cc88-4d4c-f92d-fb450775a685"
      },
      "execution_count": null,
      "outputs": [
        {
          "output_type": "execute_result",
          "data": {
            "text/plain": [
              "  airline_sentiment                                         clear_text\n",
              "0           neutral                        VirginAmerica dhepburn said\n",
              "1          positive  VirginAmerica plus added commercials experienc...\n",
              "2           neutral  VirginAmerica today Must mean need take anothe...\n",
              "3          negative  VirginAmerica really aggressive blast obnoxiou...\n",
              "4          negative                 VirginAmerica really big bad thing\n",
              "5          negative  VirginAmerica seriously would pay 30 flight se...\n",
              "6          positive  VirginAmerica yes nearly every time fly VX “ea...\n",
              "7           neutral  VirginAmerica Really missed prime opportunity ..."
            ],
            "text/html": [
              "\n",
              "  <div id=\"df-de647eed-7596-49fa-a522-bb768e90349b\">\n",
              "    <div class=\"colab-df-container\">\n",
              "      <div>\n",
              "<style scoped>\n",
              "    .dataframe tbody tr th:only-of-type {\n",
              "        vertical-align: middle;\n",
              "    }\n",
              "\n",
              "    .dataframe tbody tr th {\n",
              "        vertical-align: top;\n",
              "    }\n",
              "\n",
              "    .dataframe thead th {\n",
              "        text-align: right;\n",
              "    }\n",
              "</style>\n",
              "<table border=\"1\" class=\"dataframe\">\n",
              "  <thead>\n",
              "    <tr style=\"text-align: right;\">\n",
              "      <th></th>\n",
              "      <th>airline_sentiment</th>\n",
              "      <th>clear_text</th>\n",
              "    </tr>\n",
              "  </thead>\n",
              "  <tbody>\n",
              "    <tr>\n",
              "      <th>0</th>\n",
              "      <td>neutral</td>\n",
              "      <td>VirginAmerica dhepburn said</td>\n",
              "    </tr>\n",
              "    <tr>\n",
              "      <th>1</th>\n",
              "      <td>positive</td>\n",
              "      <td>VirginAmerica plus added commercials experienc...</td>\n",
              "    </tr>\n",
              "    <tr>\n",
              "      <th>2</th>\n",
              "      <td>neutral</td>\n",
              "      <td>VirginAmerica today Must mean need take anothe...</td>\n",
              "    </tr>\n",
              "    <tr>\n",
              "      <th>3</th>\n",
              "      <td>negative</td>\n",
              "      <td>VirginAmerica really aggressive blast obnoxiou...</td>\n",
              "    </tr>\n",
              "    <tr>\n",
              "      <th>4</th>\n",
              "      <td>negative</td>\n",
              "      <td>VirginAmerica really big bad thing</td>\n",
              "    </tr>\n",
              "    <tr>\n",
              "      <th>5</th>\n",
              "      <td>negative</td>\n",
              "      <td>VirginAmerica seriously would pay 30 flight se...</td>\n",
              "    </tr>\n",
              "    <tr>\n",
              "      <th>6</th>\n",
              "      <td>positive</td>\n",
              "      <td>VirginAmerica yes nearly every time fly VX “ea...</td>\n",
              "    </tr>\n",
              "    <tr>\n",
              "      <th>7</th>\n",
              "      <td>neutral</td>\n",
              "      <td>VirginAmerica Really missed prime opportunity ...</td>\n",
              "    </tr>\n",
              "  </tbody>\n",
              "</table>\n",
              "</div>\n",
              "      <button class=\"colab-df-convert\" onclick=\"convertToInteractive('df-de647eed-7596-49fa-a522-bb768e90349b')\"\n",
              "              title=\"Convert this dataframe to an interactive table.\"\n",
              "              style=\"display:none;\">\n",
              "        \n",
              "  <svg xmlns=\"http://www.w3.org/2000/svg\" height=\"24px\"viewBox=\"0 0 24 24\"\n",
              "       width=\"24px\">\n",
              "    <path d=\"M0 0h24v24H0V0z\" fill=\"none\"/>\n",
              "    <path d=\"M18.56 5.44l.94 2.06.94-2.06 2.06-.94-2.06-.94-.94-2.06-.94 2.06-2.06.94zm-11 1L8.5 8.5l.94-2.06 2.06-.94-2.06-.94L8.5 2.5l-.94 2.06-2.06.94zm10 10l.94 2.06.94-2.06 2.06-.94-2.06-.94-.94-2.06-.94 2.06-2.06.94z\"/><path d=\"M17.41 7.96l-1.37-1.37c-.4-.4-.92-.59-1.43-.59-.52 0-1.04.2-1.43.59L10.3 9.45l-7.72 7.72c-.78.78-.78 2.05 0 2.83L4 21.41c.39.39.9.59 1.41.59.51 0 1.02-.2 1.41-.59l7.78-7.78 2.81-2.81c.8-.78.8-2.07 0-2.86zM5.41 20L4 18.59l7.72-7.72 1.47 1.35L5.41 20z\"/>\n",
              "  </svg>\n",
              "      </button>\n",
              "      \n",
              "  <style>\n",
              "    .colab-df-container {\n",
              "      display:flex;\n",
              "      flex-wrap:wrap;\n",
              "      gap: 12px;\n",
              "    }\n",
              "\n",
              "    .colab-df-convert {\n",
              "      background-color: #E8F0FE;\n",
              "      border: none;\n",
              "      border-radius: 50%;\n",
              "      cursor: pointer;\n",
              "      display: none;\n",
              "      fill: #1967D2;\n",
              "      height: 32px;\n",
              "      padding: 0 0 0 0;\n",
              "      width: 32px;\n",
              "    }\n",
              "\n",
              "    .colab-df-convert:hover {\n",
              "      background-color: #E2EBFA;\n",
              "      box-shadow: 0px 1px 2px rgba(60, 64, 67, 0.3), 0px 1px 3px 1px rgba(60, 64, 67, 0.15);\n",
              "      fill: #174EA6;\n",
              "    }\n",
              "\n",
              "    [theme=dark] .colab-df-convert {\n",
              "      background-color: #3B4455;\n",
              "      fill: #D2E3FC;\n",
              "    }\n",
              "\n",
              "    [theme=dark] .colab-df-convert:hover {\n",
              "      background-color: #434B5C;\n",
              "      box-shadow: 0px 1px 3px 1px rgba(0, 0, 0, 0.15);\n",
              "      filter: drop-shadow(0px 1px 2px rgba(0, 0, 0, 0.3));\n",
              "      fill: #FFFFFF;\n",
              "    }\n",
              "  </style>\n",
              "\n",
              "      <script>\n",
              "        const buttonEl =\n",
              "          document.querySelector('#df-de647eed-7596-49fa-a522-bb768e90349b button.colab-df-convert');\n",
              "        buttonEl.style.display =\n",
              "          google.colab.kernel.accessAllowed ? 'block' : 'none';\n",
              "\n",
              "        async function convertToInteractive(key) {\n",
              "          const element = document.querySelector('#df-de647eed-7596-49fa-a522-bb768e90349b');\n",
              "          const dataTable =\n",
              "            await google.colab.kernel.invokeFunction('convertToInteractive',\n",
              "                                                     [key], {});\n",
              "          if (!dataTable) return;\n",
              "\n",
              "          const docLinkHtml = 'Like what you see? Visit the ' +\n",
              "            '<a target=\"_blank\" href=https://colab.research.google.com/notebooks/data_table.ipynb>data table notebook</a>'\n",
              "            + ' to learn more about interactive tables.';\n",
              "          element.innerHTML = '';\n",
              "          dataTable['output_type'] = 'display_data';\n",
              "          await google.colab.output.renderOutput(dataTable, element);\n",
              "          const docLink = document.createElement('div');\n",
              "          docLink.innerHTML = docLinkHtml;\n",
              "          element.appendChild(docLink);\n",
              "        }\n",
              "      </script>\n",
              "    </div>\n",
              "  </div>\n",
              "  "
            ]
          },
          "metadata": {},
          "execution_count": 65
        }
      ]
    },
    {
      "cell_type": "markdown",
      "source": [
        "We have to run a binary classifier in this data, so we have to remove \"neutral\" classificaton from data and keep only positive and negetive as 1 and 0 respectively"
      ],
      "metadata": {
        "id": "PrpRI1ze9CbV"
      }
    },
    {
      "cell_type": "code",
      "source": [
        "df = df[df['airline_sentiment']!= 'neutral']"
      ],
      "metadata": {
        "id": "4KUQJIQu8KhH"
      },
      "execution_count": null,
      "outputs": []
    },
    {
      "cell_type": "code",
      "source": [
        "# assigning the 0 and 1 to two classes\n",
        "\n",
        "df['airline_sentiment'] = df['airline_sentiment'].map({'positive':1, 'negative':0})"
      ],
      "metadata": {
        "id": "kX2T_rcC9o0U"
      },
      "execution_count": null,
      "outputs": []
    },
    {
      "cell_type": "markdown",
      "source": [
        "## Splitting the train and test data"
      ],
      "metadata": {
        "id": "5USQXUNB8eEm"
      }
    },
    {
      "cell_type": "code",
      "source": [
        "x_train,x_test,y_train,y_test = train_test_split(df['clear_text'],df['airline_sentiment'],test_size=0.25)"
      ],
      "metadata": {
        "id": "lC1gQoYm8jYs"
      },
      "execution_count": null,
      "outputs": []
    },
    {
      "cell_type": "code",
      "source": [
        "x_train"
      ],
      "metadata": {
        "colab": {
          "base_uri": "https://localhost:8080/"
        },
        "id": "42hEDPWx8jV4",
        "outputId": "a711ffed-a971-4e7e-83fc-c000df5899ac"
      },
      "execution_count": null,
      "outputs": [
        {
          "output_type": "execute_result",
          "data": {
            "text/plain": [
              "4265     united somehow think Im going stuck paying hot...\n",
              "6062     SouthwestAir Stuck 4251 heat blasting try thaw...\n",
              "12239    AmericanAir Id love take seat appears though s...\n",
              "7314     JetBlue less concerned delay notified looked b...\n",
              "8638         JetBlue WHATS WEBSITE CANT ACCESS FLIGHT INFO\n",
              "                               ...                        \n",
              "10920                                 USAirways damn delay\n",
              "5145     SouthwestAir Disappointed FAA regulation 2 fur...\n",
              "14245           AmericanAir Im great thanks keep good work\n",
              "13337    AmericanAir got phone w rep flight disappeared...\n",
              "12720    AmericanAir company policy refuses employees s...\n",
              "Name: clear_text, Length: 8655, dtype: object"
            ]
          },
          "metadata": {},
          "execution_count": 80
        }
      ]
    },
    {
      "cell_type": "markdown",
      "source": [
        "### Vectorizing the text data"
      ],
      "metadata": {
        "id": "VY5OU9g68Ivd"
      }
    },
    {
      "cell_type": "markdown",
      "source": [
        "count Vetorizing is used to transform the bag of words in total dat set to each as new column to count the occurance of each word in all sentences, as ML model only learn the numbers."
      ],
      "metadata": {
        "id": "e7jd4I1B_4vO"
      }
    },
    {
      "cell_type": "code",
      "source": [
        "vectorizer = CountVectorizer(max_df = 0.9,min_df = 10) #intiating the vectorizor object with some parameters\n",
        "x_train_vect = vectorizer.fit_transform(x_train)\n",
        "x_test_vect = vectorizer.transform(x_test)"
      ],
      "metadata": {
        "id": "a4sE7mUq8jOZ"
      },
      "execution_count": null,
      "outputs": []
    },
    {
      "cell_type": "code",
      "source": [
        "x_train_vect"
      ],
      "metadata": {
        "colab": {
          "base_uri": "https://localhost:8080/"
        },
        "id": "KAosjgyx3BT4",
        "outputId": "e6301219-2f17-4e08-e147-772a71e29ef7"
      },
      "execution_count": null,
      "outputs": [
        {
          "output_type": "execute_result",
          "data": {
            "text/plain": [
              "<8655x1259 sparse matrix of type '<class 'numpy.int64'>'\n",
              "\twith 73064 stored elements in Compressed Sparse Row format>"
            ]
          },
          "metadata": {},
          "execution_count": 83
        }
      ]
    },
    {
      "cell_type": "code",
      "source": [
        "# created an sparse matrix of words as colum and its counts as values for each row.\n",
        "\n",
        "x_train_vect.toarray()"
      ],
      "metadata": {
        "colab": {
          "base_uri": "https://localhost:8080/"
        },
        "id": "htPijpf2BW9n",
        "outputId": "8e01c270-f374-4475-869c-2d87b66bb29f"
      },
      "execution_count": null,
      "outputs": [
        {
          "output_type": "execute_result",
          "data": {
            "text/plain": [
              "array([[0, 0, 0, ..., 0, 0, 0],\n",
              "       [0, 0, 0, ..., 0, 0, 0],\n",
              "       [0, 0, 0, ..., 0, 0, 0],\n",
              "       ...,\n",
              "       [0, 0, 0, ..., 0, 0, 0],\n",
              "       [0, 0, 0, ..., 0, 0, 0],\n",
              "       [0, 0, 0, ..., 0, 0, 0]])"
            ]
          },
          "metadata": {},
          "execution_count": 93
        }
      ]
    },
    {
      "cell_type": "markdown",
      "source": [
        "## Fitting the SVM Model"
      ],
      "metadata": {
        "id": "p-e_hKWvBo7J"
      }
    },
    {
      "cell_type": "code",
      "source": [
        "base_model = SVC(probability=True, random_state=5)  # assigning a model object\n",
        "base_model.fit(x_train_vect,y_train)  # fitting the model"
      ],
      "metadata": {
        "colab": {
          "base_uri": "https://localhost:8080/"
        },
        "id": "60itoTaD3BRQ",
        "outputId": "9a2e1319-2b2e-4651-bbef-2096176e5471"
      },
      "execution_count": null,
      "outputs": [
        {
          "output_type": "execute_result",
          "data": {
            "text/plain": [
              "SVC(probability=True, random_state=5)"
            ]
          },
          "metadata": {},
          "execution_count": 112
        }
      ]
    },
    {
      "cell_type": "code",
      "source": [
        "train_pred = base_model.predict(x_train_vect) # predicting train set\n",
        "test_pred = base_model.predict(x_test_vect)   # predicting test set"
      ],
      "metadata": {
        "id": "-L5JOKKfEC9A"
      },
      "execution_count": null,
      "outputs": []
    },
    {
      "cell_type": "code",
      "source": [
        "# Train Accuracy score\n",
        "\n",
        "accuracy_score(y_train, train_pred) "
      ],
      "metadata": {
        "colab": {
          "base_uri": "https://localhost:8080/"
        },
        "id": "JDv3yLqMEGol",
        "outputId": "d2565b90-57fe-4046-84b9-c2acd36dd7b3"
      },
      "execution_count": null,
      "outputs": [
        {
          "output_type": "execute_result",
          "data": {
            "text/plain": [
              "0.9587521663778162"
            ]
          },
          "metadata": {},
          "execution_count": 114
        }
      ]
    },
    {
      "cell_type": "code",
      "source": [
        "# Test Accuracy Score\n",
        "\n",
        "accuracy_score(y_test,test_pred)"
      ],
      "metadata": {
        "colab": {
          "base_uri": "https://localhost:8080/"
        },
        "id": "o8AyTbd3EGk-",
        "outputId": "ce98e9a7-fc89-4f97-84f9-7972da35cad0"
      },
      "execution_count": null,
      "outputs": [
        {
          "output_type": "execute_result",
          "data": {
            "text/plain": [
              "0.9161469161469161"
            ]
          },
          "metadata": {},
          "execution_count": 115
        }
      ]
    },
    {
      "cell_type": "code",
      "source": [
        "print('Train Report')\n",
        "print(classification_report(y_train, train_pred))\n",
        "print('\\n')\n",
        "print('Test Report')\n",
        "print(classification_report(y_test, test_pred))"
      ],
      "metadata": {
        "colab": {
          "base_uri": "https://localhost:8080/"
        },
        "id": "vV4j9EP4EGjO",
        "outputId": "2c44df9c-53bf-4a11-bbea-b117b080f149"
      },
      "execution_count": null,
      "outputs": [
        {
          "output_type": "stream",
          "name": "stdout",
          "text": [
            "Train Report\n",
            "              precision    recall  f1-score   support\n",
            "\n",
            "           0       0.96      0.99      0.97      6895\n",
            "           1       0.97      0.83      0.89      1760\n",
            "\n",
            "    accuracy                           0.96      8655\n",
            "   macro avg       0.96      0.91      0.93      8655\n",
            "weighted avg       0.96      0.96      0.96      8655\n",
            "\n",
            "\n",
            "\n",
            "Test Report\n",
            "              precision    recall  f1-score   support\n",
            "\n",
            "           0       0.92      0.98      0.95      2283\n",
            "           1       0.92      0.66      0.77       603\n",
            "\n",
            "    accuracy                           0.92      2886\n",
            "   macro avg       0.92      0.82      0.86      2886\n",
            "weighted avg       0.92      0.92      0.91      2886\n",
            "\n"
          ]
        }
      ]
    },
    {
      "cell_type": "code",
      "source": [
        "# Predicting the probabilities class 1 and storing it in varible to plot graphs\n",
        "\n",
        "y_score1 = base_model.predict_proba(x_train_vect)[:,1]\n",
        "y_score2 = base_model.predict_proba(x_test_vect)[:,1]"
      ],
      "metadata": {
        "id": "eel_-414RRuH"
      },
      "execution_count": null,
      "outputs": []
    },
    {
      "cell_type": "markdown",
      "source": [
        "## plotting ROC Curve"
      ],
      "metadata": {
        "id": "pvn54UCQQwz5"
      }
    },
    {
      "cell_type": "code",
      "source": [
        "\n",
        "\n",
        "false_positive_rate2, true_positive_rate2, threshold2 = roc_curve(y_test, y_score2)\n",
        "\n",
        "plt.subplots(1, figsize=(10,10))\n",
        "plt.title('Receiver Operating Characteristic - Test Data')\n",
        "plt.plot(false_positive_rate2, true_positive_rate2)\n",
        "plt.plot([0, 1], ls=\"--\")\n",
        "plt.plot([0, 0], [1, 0] , c=\".7\"), plt.plot([1, 1] , c=\".7\")\n",
        "plt.ylabel('True Positive Rate')\n",
        "plt.xlabel('False Positive Rate')\n",
        "plt.show()\n"
      ],
      "metadata": {
        "colab": {
          "base_uri": "https://localhost:8080/",
          "height": 621
        },
        "id": "v86GjbikLlqN",
        "outputId": "7877ed30-4e61-492a-efb3-38d134a21f81"
      },
      "execution_count": null,
      "outputs": [
        {
          "output_type": "display_data",
          "data": {
            "text/plain": [
              "<Figure size 720x720 with 1 Axes>"
            ],
            "image/png": "[encoded data removed]"
          },
          "metadata": {
            "needs_background": "light"
          }
        }
      ]
    },
    {
      "cell_type": "code",
      "source": [],
      "metadata": {
        "id": "SNqIsO0eQiDm"
      },
      "execution_count": null,
      "outputs": []
    },
    {
      "cell_type": "markdown",
      "source": [
        "## Plotting Precision and Recall Curve"
      ],
      "metadata": {
        "id": "OF5wGUSRQrJG"
      }
    },
    {
      "cell_type": "code",
      "source": [
        "plt.figure(figsize=(10,10))\n",
        "\n",
        "#calculate precision and recall\n",
        "\n",
        "precision, recall, thresholds = precision_recall_curve(y_train, y_score1)\n",
        "precision2, recall2, thresholds2 = precision_recall_curve(y_test, y_score2)\n",
        "\n",
        "#create precision recall curve\n",
        "# fig, ax = plt.subplots()\n",
        "plt.plot(recall2, precision2)\n",
        "plt.plot(recall, precision)\n",
        "\n",
        "#add axis labels to plot\n",
        "# plt.set_title('Precision-Recall Curve-Test')\n",
        "# plt.set_ylabel('Precision')\n",
        "# plt.set_xlabel('Recall')\n",
        "plt.legend(['Test', 'Train'])\n",
        "\n",
        "#display plot\n",
        "plt.show()"
      ],
      "metadata": {
        "colab": {
          "base_uri": "https://localhost:8080/",
          "height": 592
        },
        "id": "A_clEaHQQiAs",
        "outputId": "f6597ecd-18c7-4f54-d0d7-a4a5ab26830e"
      },
      "execution_count": null,
      "outputs": [
        {
          "output_type": "display_data",
          "data": {
            "text/plain": [
              "<Figure size 720x720 with 1 Axes>"
            ],
            "image/png": "[encoded data removed]"
          },
          "metadata": {
            "needs_background": "light"
          }
        }
      ]
    },
    {
      "cell_type": "code",
      "source": [],
      "metadata": {
        "id": "eSOkqLD7Llnj"
      },
      "execution_count": null,
      "outputs": []
    },
    {
      "cell_type": "code",
      "source": [],
      "metadata": {
        "id": "wF1Vn98zLlj7"
      },
      "execution_count": null,
      "outputs": []
    },
    {
      "cell_type": "code",
      "source": [],
      "metadata": {
        "id": "LbnA_MUrLliD"
      },
      "execution_count": null,
      "outputs": []
    },
    {
      "cell_type": "markdown",
      "source": [
        "## Using Grid Search Cross Validaton for hyperparameter tuning"
      ],
      "metadata": {
        "id": "-yyg2gWIGDx4"
      }
    },
    {
      "cell_type": "code",
      "source": [
        "# defining parameter range\n",
        "\n",
        "param_grid = {'C': [0.001, 0.1, 4, 50],\n",
        "              'gamma': [0.1, 0.01, 0.0001],\n",
        "              'kernel': ['poly', 'rbf']} \n",
        "  \n",
        "grid = GridSearchCV(SVC(), param_grid, verbose = 3, n_jobs=-1)\n",
        "\n",
        "# fitting the model for grid search\n",
        "grid.fit(x_train_vect, y_train)"
      ],
      "metadata": {
        "colab": {
          "base_uri": "https://localhost:8080/"
        },
        "id": "i0E6wA2fEGfs",
        "outputId": "d2d3f0d0-1c53-46c4-cc24-43765f48b4e8"
      },
      "execution_count": null,
      "outputs": [
        {
          "output_type": "stream",
          "name": "stdout",
          "text": [
            "Fitting 5 folds for each of 24 candidates, totalling 120 fits\n"
          ]
        },
        {
          "output_type": "execute_result",
          "data": {
            "text/plain": [
              "GridSearchCV(estimator=SVC(), n_jobs=-1,\n",
              "             param_grid={'C': [0.001, 0.1, 4, 50], 'gamma': [0.1, 0.01, 0.0001],\n",
              "                         'kernel': ['poly', 'rbf']},\n",
              "             verbose=3)"
            ]
          },
          "metadata": {},
          "execution_count": 136
        }
      ]
    },
    {
      "cell_type": "code",
      "source": [
        "# Finding Best hyperparameter for model\n",
        "\n",
        "grid.best_params_"
      ],
      "metadata": {
        "colab": {
          "base_uri": "https://localhost:8080/"
        },
        "id": "cKi9F1WiYYSD",
        "outputId": "7f7fe185-b188-4ad0-8c73-306bba4d4680"
      },
      "execution_count": null,
      "outputs": [
        {
          "output_type": "execute_result",
          "data": {
            "text/plain": [
              "{'C': 4, 'gamma': 0.1, 'kernel': 'rbf'}"
            ]
          },
          "metadata": {},
          "execution_count": 139
        }
      ]
    },
    {
      "cell_type": "code",
      "source": [
        "# Calculatng the report of train and test results\n",
        "\n",
        "grid_train_pred = grid.predict(x_train_vect)\n",
        "grid_test_pred = grid.predict(x_test_vect)\n",
        "\n",
        "print(f'Train_accuracy:- {accuracy_score(y_train, grid_train_pred)}')\n",
        "print(f'Test_accuracy:- {accuracy_score(y_test, grid_test_pred)}')\n",
        "\n",
        "print('\\n')\n",
        "\n",
        "print('Train Report')\n",
        "print(classification_report(y_train, grid_train_pred))\n",
        "print('------------------------------------------------')\n",
        "print('Test Report')\n",
        "print(classification_report(y_test, grid_test_pred))"
      ],
      "metadata": {
        "colab": {
          "base_uri": "https://localhost:8080/"
        },
        "id": "7UNix0DZEGeI",
        "outputId": "447d080e-a53d-4bb9-c87a-1352798ac27c"
      },
      "execution_count": null,
      "outputs": [
        {
          "output_type": "stream",
          "name": "stdout",
          "text": [
            "Train_accuracy:- 0.9890236857307915\n",
            "Test_accuracy:- 0.9168399168399168\n",
            "\n",
            "\n",
            "Train Report\n",
            "              precision    recall  f1-score   support\n",
            "\n",
            "           0       0.99      1.00      0.99      6895\n",
            "           1       0.99      0.95      0.97      1760\n",
            "\n",
            "    accuracy                           0.99      8655\n",
            "   macro avg       0.99      0.98      0.98      8655\n",
            "weighted avg       0.99      0.99      0.99      8655\n",
            "\n",
            "------------------------------------------------\n",
            "Test Report\n",
            "              precision    recall  f1-score   support\n",
            "\n",
            "           0       0.93      0.97      0.95      2283\n",
            "           1       0.86      0.72      0.78       603\n",
            "\n",
            "    accuracy                           0.92      2886\n",
            "   macro avg       0.89      0.84      0.87      2886\n",
            "weighted avg       0.91      0.92      0.91      2886\n",
            "\n"
          ]
        }
      ]
    },
    {
      "cell_type": "markdown",
      "source": [
        "We see that our Model is improved after using the GridSearhCV method and hyperparameter tuning, its best to tune hyperparametrs to get best performance"
      ],
      "metadata": {
        "id": "3XFf02uLZHNA"
      }
    },
    {
      "cell_type": "code",
      "source": [],
      "metadata": {
        "id": "3BZhnkxDYCJT"
      },
      "execution_count": null,
      "outputs": []
    },
    {
      "cell_type": "markdown",
      "source": [
        "# Building model using TF-IDF vectorization"
      ],
      "metadata": {
        "id": "SYlhBNFhZdQ2"
      }
    },
    {
      "cell_type": "markdown",
      "source": [
        "This is also a technique to convert bag of words into column but instead of just word counts TD-IDF is a proper weighting technique to give proper weightage to important words."
      ],
      "metadata": {
        "id": "zWwuZPyQZkiQ"
      }
    },
    {
      "cell_type": "code",
      "source": [
        "tfvectorizer = TfidfVectorizer(max_df = 0.9,min_df = 10) #intiating the vectorizor object with some parameters\n",
        "x_train_tf = tfvectorizer.fit_transform(x_train)\n",
        "x_test_tf = tfvectorizer.transform(x_test)"
      ],
      "metadata": {
        "id": "f6A5MBJtZGZ8"
      },
      "execution_count": null,
      "outputs": []
    },
    {
      "cell_type": "code",
      "source": [
        "tf_model = SVC(random_state=5)  # assigning a model object\n",
        "tf_model.fit(x_train_vect,y_train)  # fitting the model"
      ],
      "metadata": {
        "colab": {
          "base_uri": "https://localhost:8080/"
        },
        "id": "0mqHHnpgZGWa",
        "outputId": "620e0f58-3f11-4f3e-e6de-1fc39dbe2d30"
      },
      "execution_count": null,
      "outputs": [
        {
          "output_type": "execute_result",
          "data": {
            "text/plain": [
              "SVC(random_state=5)"
            ]
          },
          "metadata": {},
          "execution_count": 144
        }
      ]
    },
    {
      "cell_type": "code",
      "source": [
        "tf_train_pred = base_model.predict(x_train_vect) # predicting train set\n",
        "tf_test_pred = base_model.predict(x_test_vect)   # predicting test set"
      ],
      "metadata": {
        "id": "IkW9l_cgdzUB"
      },
      "execution_count": null,
      "outputs": []
    },
    {
      "cell_type": "code",
      "source": [
        "print('Train Report')\n",
        "print(classification_report(y_train, tf_train_pred))\n",
        "print('------------------------------------------------')\n",
        "print('Test Report')\n",
        "print(classification_report(y_test, tf_test_pred))"
      ],
      "metadata": {
        "colab": {
          "base_uri": "https://localhost:8080/"
        },
        "id": "ghsAYfqhdzRA",
        "outputId": "3b965dc7-56f0-43d7-c561-86d12abae148"
      },
      "execution_count": null,
      "outputs": [
        {
          "output_type": "stream",
          "name": "stdout",
          "text": [
            "Train Report\n",
            "              precision    recall  f1-score   support\n",
            "\n",
            "           0       0.96      0.99      0.97      6895\n",
            "           1       0.97      0.83      0.89      1760\n",
            "\n",
            "    accuracy                           0.96      8655\n",
            "   macro avg       0.96      0.91      0.93      8655\n",
            "weighted avg       0.96      0.96      0.96      8655\n",
            "\n",
            "------------------------------------------------\n",
            "Test Report\n",
            "              precision    recall  f1-score   support\n",
            "\n",
            "           0       0.92      0.98      0.95      2283\n",
            "           1       0.92      0.66      0.77       603\n",
            "\n",
            "    accuracy                           0.92      2886\n",
            "   macro avg       0.92      0.82      0.86      2886\n",
            "weighted avg       0.92      0.92      0.91      2886\n",
            "\n"
          ]
        }
      ]
    },
    {
      "cell_type": "markdown",
      "source": [
        "This model is also somewhat improved, there's some changes in Precision and Recall, so we can make optimal decision about which model to choose depend on the stakeholder's preference."
      ],
      "metadata": {
        "id": "nimcwtPce86l"
      }
    },
    {
      "cell_type": "code",
      "source": [],
      "metadata": {
        "id": "qa_T2d8cdzO1"
      },
      "execution_count": null,
      "outputs": []
    },
    {
      "cell_type": "code",
      "source": [],
      "metadata": {
        "id": "0YAOT8HCZGUn"
      },
      "execution_count": null,
      "outputs": []
    },
    {
      "cell_type": "code",
      "source": [],
      "metadata": {
        "id": "kvsuAQW-ZGRC"
      },
      "execution_count": null,
      "outputs": []
    },
    {
      "cell_type": "code",
      "source": [],
      "metadata": {
        "id": "_lZgSZn9ZGPZ"
      },
      "execution_count": null,
      "outputs": []
    },
    {
      "cell_type": "code",
      "source": [],
      "metadata": {
        "id": "BYWnnoP5ZGMa"
      },
      "execution_count": null,
      "outputs": []
    },
    {
      "cell_type": "code",
      "source": [],
      "metadata": {
        "id": "NyHsUPGRZGKY"
      },
      "execution_count": null,
      "outputs": []
    }
  ]
}